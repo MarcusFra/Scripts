{
 "cells": [
  {
   "cell_type": "code",
   "execution_count": 1,
   "metadata": {
    "collapsed": true
   },
   "outputs": [],
   "source": [
    "# get the ReDIF data using rsync and list the files first \n",
    "# https://github.com/repec-org/Scripts/blob/master/python/analyze_archives/README.md"
   ]
  },
  {
   "cell_type": "code",
   "execution_count": 5,
   "metadata": {
    "collapsed": false
   },
   "outputs": [],
   "source": [
    "import pandas as pd\n",
    "data_path='../../../../data/ls_ReFID.txt'\n",
    "df=pd.read_table(data_path,header=None)"
   ]
  },
  {
   "cell_type": "code",
   "execution_count": 6,
   "metadata": {
    "collapsed": false
   },
   "outputs": [],
   "source": [
    "df=df[:-1]\n",
    "df['split']=df[0].apply(lambda x: x.split())\n",
    "df['size']=df[0].apply(lambda x: x.split()[4]).astype(int)\n",
    "df['ext']=df.split.apply(lambda x : x[-1].split('.')[-1])"
   ]
  },
  {
   "cell_type": "code",
   "execution_count": 7,
   "metadata": {
    "collapsed": false
   },
   "outputs": [
    {
     "data": {
      "text/html": [
       "<div>\n",
       "<table border=\"1\" class=\"dataframe\">\n",
       "  <thead>\n",
       "    <tr>\n",
       "      <th></th>\n",
       "      <th colspan=\"2\" halign=\"left\">size</th>\n",
       "    </tr>\n",
       "    <tr>\n",
       "      <th></th>\n",
       "      <th>count</th>\n",
       "      <th>sum</th>\n",
       "    </tr>\n",
       "    <tr>\n",
       "      <th>ext</th>\n",
       "      <th></th>\n",
       "      <th></th>\n",
       "    </tr>\n",
       "  </thead>\n",
       "  <tbody>\n",
       "    <tr>\n",
       "      <th>pdf</th>\n",
       "      <td>27559</td>\n",
       "      <td>20905771</td>\n",
       "    </tr>\n",
       "    <tr>\n",
       "      <th>mov</th>\n",
       "      <td>1</td>\n",
       "      <td>4224128</td>\n",
       "    </tr>\n",
       "    <tr>\n",
       "      <th>rdf</th>\n",
       "      <td>701973</td>\n",
       "      <td>3568444</td>\n",
       "    </tr>\n",
       "    <tr>\n",
       "      <th>redif</th>\n",
       "      <td>30644</td>\n",
       "      <td>1833133</td>\n",
       "    </tr>\n",
       "    <tr>\n",
       "      <th>mp3</th>\n",
       "      <td>2</td>\n",
       "      <td>1097175</td>\n",
       "    </tr>\n",
       "    <tr>\n",
       "      <th>zip</th>\n",
       "      <td>268</td>\n",
       "      <td>457851</td>\n",
       "    </tr>\n",
       "    <tr>\n",
       "      <th>mdb</th>\n",
       "      <td>50</td>\n",
       "      <td>401299</td>\n",
       "    </tr>\n",
       "    <tr>\n",
       "      <th>doc</th>\n",
       "      <td>829</td>\n",
       "      <td>355130</td>\n",
       "    </tr>\n",
       "    <tr>\n",
       "      <th>rdf~</th>\n",
       "      <td>426</td>\n",
       "      <td>263478</td>\n",
       "    </tr>\n",
       "    <tr>\n",
       "      <th>dat</th>\n",
       "      <td>2846</td>\n",
       "      <td>236721</td>\n",
       "    </tr>\n",
       "  </tbody>\n",
       "</table>\n",
       "</div>"
      ],
      "text/plain": [
       "         size          \n",
       "        count       sum\n",
       "ext                    \n",
       "pdf     27559  20905771\n",
       "mov         1   4224128\n",
       "rdf    701973   3568444\n",
       "redif   30644   1833133\n",
       "mp3         2   1097175\n",
       "zip       268    457851\n",
       "mdb        50    401299\n",
       "doc       829    355130\n",
       "rdf~      426    263478\n",
       "dat      2846    236721"
      ]
     },
     "execution_count": 7,
     "metadata": {},
     "output_type": "execute_result"
    }
   ],
   "source": [
    "dg=df[['ext','size']].groupby('ext').agg(['count','sum'])\n",
    "dg.sort_values([('size','sum')],ascending=False).head(10)"
   ]
  }
 ],
 "metadata": {
  "anaconda-cloud": {},
  "kernelspec": {
   "display_name": "Python [Root]",
   "language": "python",
   "name": "Python [Root]"
  },
  "language_info": {
   "codemirror_mode": {
    "name": "ipython",
    "version": 2
   },
   "file_extension": ".py",
   "mimetype": "text/x-python",
   "name": "python",
   "nbconvert_exporter": "python",
   "pygments_lexer": "ipython2",
   "version": "2.7.12"
  }
 },
 "nbformat": 4,
 "nbformat_minor": 0
}
