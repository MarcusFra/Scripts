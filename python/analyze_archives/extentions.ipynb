{
 "cells": [
  {
   "cell_type": "code",
   "execution_count": 1,
   "metadata": {
    "collapsed": true
   },
   "outputs": [],
   "source": [
    "# get the ReDIF data using rsync and list the files first \n",
    "# https://github.com/repec-org/Scripts/blob/master/python/analyze_archives/README.md"
   ]
  },
  {
   "cell_type": "code",
   "execution_count": 5,
   "metadata": {
    "collapsed": false
   },
   "outputs": [],
   "source": [
    "#read the data\n",
    "import pandas as pd\n",
    "data_path='../../../../data/ls_ReFID.txt'\n",
    "df=pd.read_table(data_path,header=None)"
   ]
  },
  {
   "cell_type": "code",
   "execution_count": 6,
   "metadata": {
    "collapsed": false
   },
   "outputs": [],
   "source": [
    "#clean the data\n",
    "df=df[:-1]\n",
    "df['split']=df[0].apply(lambda x: x.split())\n",
    "df['size']=df[0].apply(lambda x: x.split()[4]).astype(int)\n",
    "df['ext']=df.split.apply(lambda x : x[-1].split('.')[-1])"
   ]
  },
  {
   "cell_type": "code",
   "execution_count": 74,
   "metadata": {
    "collapsed": false,
    "scrolled": true
   },
   "outputs": [
    {
     "data": {
      "text/html": [
       "<div>\n",
       "<table border=\"1\" class=\"dataframe\">\n",
       "  <thead>\n",
       "    <tr style=\"text-align: right;\">\n",
       "      <th></th>\n",
       "      <th>Numver of files</th>\n",
       "      <th>Total size of files (GB)</th>\n",
       "    </tr>\n",
       "    <tr>\n",
       "      <th>ext</th>\n",
       "      <th></th>\n",
       "      <th></th>\n",
       "    </tr>\n",
       "  </thead>\n",
       "  <tbody>\n",
       "    <tr>\n",
       "      <th>pdf</th>\n",
       "      <td>27559</td>\n",
       "      <td>20905771</td>\n",
       "    </tr>\n",
       "    <tr>\n",
       "      <th>mov</th>\n",
       "      <td>1</td>\n",
       "      <td>4224128</td>\n",
       "    </tr>\n",
       "    <tr>\n",
       "      <th>rdf</th>\n",
       "      <td>701973</td>\n",
       "      <td>3568444</td>\n",
       "    </tr>\n",
       "    <tr>\n",
       "      <th>redif</th>\n",
       "      <td>30644</td>\n",
       "      <td>1833133</td>\n",
       "    </tr>\n",
       "    <tr>\n",
       "      <th>mp3</th>\n",
       "      <td>2</td>\n",
       "      <td>1097175</td>\n",
       "    </tr>\n",
       "    <tr>\n",
       "      <th>zip</th>\n",
       "      <td>268</td>\n",
       "      <td>457851</td>\n",
       "    </tr>\n",
       "    <tr>\n",
       "      <th>mdb</th>\n",
       "      <td>50</td>\n",
       "      <td>401299</td>\n",
       "    </tr>\n",
       "    <tr>\n",
       "      <th>doc</th>\n",
       "      <td>829</td>\n",
       "      <td>355130</td>\n",
       "    </tr>\n",
       "    <tr>\n",
       "      <th>rdf~</th>\n",
       "      <td>426</td>\n",
       "      <td>263478</td>\n",
       "    </tr>\n",
       "    <tr>\n",
       "      <th>dat</th>\n",
       "      <td>2846</td>\n",
       "      <td>236721</td>\n",
       "    </tr>\n",
       "  </tbody>\n",
       "</table>\n",
       "</div>"
      ],
      "text/plain": [
       "       Numver of files  Total size of files (GB)\n",
       "ext                                             \n",
       "pdf              27559                  20905771\n",
       "mov                  1                   4224128\n",
       "rdf             701973                   3568444\n",
       "redif            30644                   1833133\n",
       "mp3                  2                   1097175\n",
       "zip                268                    457851\n",
       "mdb                 50                    401299\n",
       "doc                829                    355130\n",
       "rdf~               426                    263478\n",
       "dat               2846                    236721"
      ]
     },
     "execution_count": 74,
     "metadata": {},
     "output_type": "execute_result"
    }
   ],
   "source": [
    "#aggregate by extension\n",
    "dg=df[['ext','size']].groupby('ext').agg(['count','sum'])\n",
    "dg.columns=['Numver of files','Total size of files (GB)']\n",
    "dg[]['sum']=(dg['size']['sum']/1024/1024).round(1)\n",
    "\n",
    "dg.sort_values([('Total size of files (GB)')],ascending=False).head(10)"
   ]
  },
  {
   "cell_type": "code",
   "execution_count": 73,
   "metadata": {
    "collapsed": false
   },
   "outputs": [
    {
     "data": {
      "text/plain": [
       "ext\n",
       "                                0.0\n",
       "#out#                           0.0\n",
       "$$$                             0.0\n",
       "001                             0.0\n",
       "00D                             0.2\n",
       "00L                             0.0\n",
       "00P                             0.0\n",
       "00T                             0.0\n",
       "03                              0.0\n",
       "1                               0.0\n",
       "10                              0.0\n",
       "100                             0.0\n",
       "1000                            0.0\n",
       "1001                            0.0\n",
       "1002                            0.0\n",
       "1003                            0.0\n",
       "1004                            0.0\n",
       "1005                            0.0\n",
       "1006                            0.0\n",
       "1007                            0.0\n",
       "1008                            0.0\n",
       "1009                            0.0\n",
       "101                             0.0\n",
       "1010                            0.0\n",
       "1013                            0.0\n",
       "1014                            0.0\n",
       "1015                            0.0\n",
       "1016                            0.0\n",
       "1017                            0.0\n",
       "1018                            0.0\n",
       "                               ... \n",
       "test                            0.0\n",
       "tex                             0.0\n",
       "tfw                             0.0\n",
       "tgz                             0.0\n",
       "thmx                            0.0\n",
       "tif                             0.0\n",
       "tmp                             0.0\n",
       "toc                             0.0\n",
       "ttf                             0.0\n",
       "txt                             0.2\n",
       "txt~                            0.0\n",
       "uconn                           0.0\n",
       "umdecordf%20March%2007%20old    0.0\n",
       "url                             0.0\n",
       "used)                           0.0\n",
       "utilit                          0.0\n",
       "vcf                             0.0\n",
       "wait                            0.0\n",
       "wf1                             0.0\n",
       "woff                            0.0\n",
       "woff2                           0.0\n",
       "wps                             0.0\n",
       "wq1                             0.0\n",
       "xls                             0.1\n",
       "xlsx                            0.0\n",
       "xml                             0.1\n",
       "xsd                             0.0\n",
       "xsl                             0.0\n",
       "zap                             0.0\n",
       "zip                             0.4\n",
       "Name: sum, dtype: float64"
      ]
     },
     "execution_count": 73,
     "metadata": {},
     "output_type": "execute_result"
    }
   ],
   "source": [
    "dg=df[['ext','size']].groupby('ext').agg(['count','sum'])\n",
    "(dg['size']['sum']/1024/1024).round(1)\n"
   ]
  },
  {
   "cell_type": "code",
   "execution_count": null,
   "metadata": {
    "collapsed": true
   },
   "outputs": [],
   "source": []
  }
 ],
 "metadata": {
  "anaconda-cloud": {},
  "kernelspec": {
   "display_name": "Python [Root]",
   "language": "python",
   "name": "Python [Root]"
  },
  "language_info": {
   "codemirror_mode": {
    "name": "ipython",
    "version": 2
   },
   "file_extension": ".py",
   "mimetype": "text/x-python",
   "name": "python",
   "nbconvert_exporter": "python",
   "pygments_lexer": "ipython2",
   "version": "2.7.12"
  }
 },
 "nbformat": 4,
 "nbformat_minor": 0
}
