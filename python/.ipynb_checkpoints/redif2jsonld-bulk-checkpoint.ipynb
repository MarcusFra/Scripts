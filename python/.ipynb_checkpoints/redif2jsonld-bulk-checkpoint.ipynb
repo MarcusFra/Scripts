{
 "cells": [
  {
   "cell_type": "code",
   "execution_count": 133,
   "metadata": {
    "collapsed": false
   },
   "outputs": [],
   "source": [
    "import json\n",
    "import os\n",
    "from pprint import pprint\n",
    "import re\n",
    "import unicodedata\n",
    "from unidecode import unidecode\n",
    "import io\n",
    "import shutil\n",
    "import pandas as pd"
   ]
  },
  {
   "cell_type": "code",
   "execution_count": 123,
   "metadata": {
    "collapsed": false
   },
   "outputs": [
    {
     "name": "stdout",
     "output_type": "stream",
     "text": [
      "\n"
     ]
    }
   ],
   "source": [
    "data='../../../data/'\n",
    "rdf_folder=data+'rdf0/'\n",
    "json_folder=data+'json/'\n"
   ]
  },
  {
   "cell_type": "code",
   "execution_count": 124,
   "metadata": {
    "collapsed": false
   },
   "outputs": [],
   "source": [
    "def redif2jsonld(redif_file,path):\n",
    "    ''' A function that gets a ReDIF input and converts it to a JSON-LD'''\n",
    "    articles=[]\n",
    "    article={}; \n",
    "    creators=[]\n",
    "    creator={}\n",
    "    with io.open(root+'/'+file,encoding='utf-8',errors='ignore') as f:\n",
    "        content = f.readlines()\n",
    "\n",
    "    # you may also want to remove whitespace characters like `\\n` at the end of each line\n",
    "    content = [x.strip() for x in content] \n",
    "    content = [x.replace('\\x0c','?') for x in content]\n",
    "    \n",
    "    for i in content:\n",
    "        pair=i.split(':')\n",
    "        j=i.replace(pair[0]+':','').strip()\n",
    "\\            if len(creator)>0:\n",
    "                creators.append(creator)\n",
    "            creator={}\n",
    "            creator['name']=j[:50]\n",
    "        elif pair[0]=='Author-Email':\n",
    "            creator['email']=j\n",
    "        elif pair[0]=='Author-Workplace-Name':\n",
    "            creator['affiliation']=j\n",
    "        elif pair[0].lower()=='title':article['title']=j\n",
    "        elif pair[0].lower()=='year':article['date']=j\n",
    "        elif pair[0].lower()=='pages':article['pages']=j\n",
    "        elif pair[0].lower()=='volume':article['volume']=j\n",
    "        elif pair[0].lower()=='issue':article['issue']=j\n",
    "        elif pair[0].lower()=='file-url':article['url']=j\n",
    "        elif pair[0].lower()=='abstract':article['abstract']=j\n",
    "        elif pair[0].lower()=='keywords':article['keywords']=[keyword.strip() for keyword in j.split(',')]\n",
    "    jd=json.dumps(articles,ensure_ascii=False)\n",
    "    #jd = unicode(jd, 'utf-8',errors='ignore')\n",
    "    jl=json.loads(jd,encoding='utf-8')\n",
    "    return (jl)"
   ]
  },
  {
   "cell_type": "code",
   "execution_count": 187,
   "metadata": {
    "collapsed": false
   },
   "outputs": [],
   "source": [
    "series_df=pd.read_csv('~/data/series.csv')\n",
    "series_df['serie-handle']=series_df.handle.str[6:9]+series_df.handle.str[10:16]"
   ]
  },
  {
   "cell_type": "code",
   "execution_count": 192,
   "metadata": {
    "collapsed": false,
    "scrolled": true
   },
   "outputs": [
    {
     "name": "stdout",
     "output_type": "stream",
     "text": [
      "1 2 3 4 5 6\n"
     ]
    }
   ],
   "source": [
    "shutil.rmtree(json_folder)\n",
    "os.makedirs(json_folder)\n",
    "i=0\n",
    "for root, dirs, files in os.walk(rdf_folder):\n",
    "    series=[]\n",
    "    path = root.replace(rdf_folder,'').split(os.sep)\n",
    "    if len(path)==2:\n",
    "        i=i+1\n",
    "        if (i % 1)==0: print i,\n",
    "        jsonld_file=json_folder+root.replace('../../../data/rdf/','').replace('/','_')+'.json'\n",
    "        serie={}\n",
    "        serie['seriehandle']=path[0]+path[1]\n",
    "        serie['providername']=series_df[series_df['serie-handle']==serie['seriehandle']].iloc[0]['provider-name']\n",
    "        serie['seriename']=series_df[series_df['serie-handle']==serie['seriehandle']].iloc[0]['name']\n",
    "        serie['items']=[]\n",
    "        for file in files:        \n",
    "            if file[-4:]=='.rdf' or file[-6:]=='.redif':\n",
    "                json_data=redif2jsonld(file,path)   \n",
    "            serie['items']=serie['items']+json_data\n",
    "        series.append(serie)\n",
    "        with open(jsonld_file, 'a') as outfile:\n",
    "            json.dump(series, outfile)"
   ]
  },
  {
   "cell_type": "code",
   "execution_count": 193,
   "metadata": {
    "collapsed": false
   },
   "outputs": [],
   "source": [
    "with open(data+'mongo_json.json','a') as mongo_json:\n",
    "    for json_file in os.listdir(data+'json'):\n",
    "        if json_file[-5:]=='.json':\n",
    "            with open(data+'json/'+json_file) as json_str:\n",
    "                json_object=json.load(json_str)\n",
    "                for item in json_object:\n",
    "                    mongo_json.write(json.dumps(item)+'\\n')"
   ]
  },
  {
   "cell_type": "code",
   "execution_count": 119,
   "metadata": {
    "collapsed": false
   },
   "outputs": [],
   "source": [
    "import pymongo\n",
    "conn=pymongo.MongoClient('52.73.2.35:27017')\n",
    "db=conn.repec"
   ]
  },
  {
   "cell_type": "code",
   "execution_count": 169,
   "metadata": {
    "collapsed": false
   },
   "outputs": [
    {
     "data": {
      "text/plain": [
       "'aahaarhec'"
      ]
     },
     "execution_count": 169,
     "metadata": {},
     "output_type": "execute_result"
    },
    {
     "name": "stdout",
     "output_type": "stream",
     "text": [
      "\n"
     ]
    }
   ],
   "source": [
    "serie['serie_name']"
   ]
  },
  {
   "cell_type": "code",
   "execution_count": 179,
   "metadata": {
    "collapsed": false
   },
   "outputs": [
    {
     "data": {
      "text/plain": [
       "handle                                           RePEc:aay:wpaper\n",
       "maintainer-email                                    info@aaye.org\n",
       "name                    AAYE Policy Research Working Paper Series\n",
       "provider-homepage                            http://www.aaye.org/\n",
       "provider-institution                            RePEc:edi:aayeeea\n",
       "provider-name             Association of African Young Economists\n",
       "serie_name                                              aaywpaper\n",
       "Name: 7, dtype: object"
      ]
     },
     "execution_count": 179,
     "metadata": {},
     "output_type": "execute_result"
    }
   ],
   "source": [
    "series_df[series_df['serie_name']==serie['serie_name']].iloc[0]"
   ]
  },
  {
   "cell_type": "code",
   "execution_count": 172,
   "metadata": {
    "collapsed": false
   },
   "outputs": [
    {
     "ename": "TypeError",
     "evalue": "list indices must be integers, not str",
     "output_type": "error",
     "traceback": [
      "\u001b[0;31m---------------------------------------------------------------------------\u001b[0m",
      "\u001b[0;31mTypeError\u001b[0m                                 Traceback (most recent call last)",
      "\u001b[0;32m<ipython-input-172-7ee92f399b26>\u001b[0m in \u001b[0;36m<module>\u001b[0;34m()\u001b[0m\n\u001b[0;32m----> 1\u001b[0;31m \u001b[0mseries\u001b[0m\u001b[0;34m[\u001b[0m\u001b[0mseries\u001b[0m\u001b[0;34m[\u001b[0m\u001b[0;34m'serie_name'\u001b[0m\u001b[0;34m]\u001b[0m\u001b[0;34m==\u001b[0m\u001b[0;34m'aaywpaper'\u001b[0m\u001b[0;34m]\u001b[0m\u001b[0;34m\u001b[0m\u001b[0m\n\u001b[0m",
      "\u001b[0;31mTypeError\u001b[0m: list indices must be integers, not str"
     ]
    }
   ],
   "source": [
    "series_df[series_df['serie_name']=='aaywpaper']"
   ]
  },
  {
   "cell_type": "code",
   "execution_count": null,
   "metadata": {
    "collapsed": true
   },
   "outputs": [],
   "source": []
  }
 ],
 "metadata": {
  "anaconda-cloud": {},
  "kernelspec": {
   "display_name": "Python [Root]",
   "language": "python",
   "name": "Python [Root]"
  },
  "language_info": {
   "codemirror_mode": {
    "name": "ipython",
    "version": 2
   },
   "file_extension": ".py",
   "mimetype": "text/x-python",
   "name": "python",
   "nbconvert_exporter": "python",
   "pygments_lexer": "ipython2",
   "version": "2.7.12"
  }
 },
 "nbformat": 4,
 "nbformat_minor": 0
}
