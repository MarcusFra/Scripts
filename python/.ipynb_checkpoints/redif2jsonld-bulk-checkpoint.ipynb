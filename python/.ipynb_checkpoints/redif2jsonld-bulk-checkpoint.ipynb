{
 "cells": [
  {
   "cell_type": "code",
   "execution_count": 1,
   "metadata": {
    "collapsed": false
   },
   "outputs": [],
   "source": [
    "import json\n",
    "import os\n",
    "from pprint import pprint\n",
    "import re\n",
    "import unicodedata\n",
    "from unidecode import unidecode\n",
    "import io\n",
    "import shutil\n",
    "import pandas as pd"
   ]
  },
  {
   "cell_type": "code",
   "execution_count": 9,
   "metadata": {
    "collapsed": false
   },
   "outputs": [],
   "source": [
    "data='../../../data/'\n",
    "rdf_folder=data+'rdf0/'\n",
    "json_folder=data+'json/'"
   ]
  },
  {
   "cell_type": "code",
   "execution_count": 10,
   "metadata": {
    "collapsed": false
   },
   "outputs": [],
   "source": [
    "def redif2jsonld(redif_file,path):\n",
    "    ''' A function that gets a ReDIF input and converts it to a JSON-LD'''\n",
    "    articles=[]; article={}; creators=[]; creator={}\n",
    "    with open(root+'/'+file) as f:\n",
    "        content = f.readlines()\n",
    "\n",
    "    # you may also want to remove whitespace characters like `\\n` at the end of each line\n",
    "    content = [x.strip() for x in content] \n",
    "    content = [x.replace('\\x0c','?') for x in content]\n",
    "    \n",
    "    for i in content:\n",
    "        pair=i.split(':')\n",
    "        j=i.replace(pair[0]+':','').strip()\n",
    "        if pair[0].lower()=='template-type':\n",
    "            if len(article)>0:\n",
    "                creators.append(creator)\n",
    "                article['author']=creators ; creators=[]\n",
    "                articles.append(article); article={}; \n",
    "            article['author']=[]; article['keyword']=[]; \n",
    "            article['template']=i\n",
    "        elif pair[0].lower()=='author-name':\n",
    "            if len(creator)>0:\n",
    "                creators.append(creator)\n",
    "            creator={}\n",
    "            creator['name']=j[:50]\n",
    "        elif pair[0]=='Author-Email':\n",
    "            creator['email']=j\n",
    "        elif pair[0]=='Author-Workplace-Name':\n",
    "            creator['affiliation']=j\n",
    "        elif pair[0].lower()=='title':article['title']=j\n",
    "        elif pair[0].lower()=='year':article['date']=j\n",
    "        elif pair[0].lower()=='pages':article['pages']=j\n",
    "        elif pair[0].lower()=='volume':article['volume']=j\n",
    "        elif pair[0].lower()=='issue':article['issue']=j\n",
    "        elif pair[0].lower()=='file-url':article['url']=j\n",
    "        elif pair[0].lower()=='abstract':article['abstract']=j\n",
    "        elif pair[0].lower()=='keyword':article['keyword']=[keyword.strip() for keyword in j.split(',')]\n",
    "    if len(article)>0:\n",
    "        if len(creator)>0: creators.append(creator); creator=[]\n",
    "        article['author']=creators; creators=[]\n",
    "        articles.append(article)   \n",
    "\n",
    "    jd=json.dumps(articles, ensure_ascii=False)\n",
    "    jd = unicode(jd, 'utf-8',errors='ignore')\n",
    "    jl=json.loads(jd)\n",
    "    return (jl)"
   ]
  },
  {
   "cell_type": "code",
   "execution_count": 11,
   "metadata": {
    "collapsed": false
   },
   "outputs": [],
   "source": [
    "series_df=pd.read_csv('~/data/series.csv')\n",
    "series_df['serie-handle']=series_df.handle.str[6:9]+series_df.handle.str[10:16]"
   ]
  },
  {
   "cell_type": "code",
   "execution_count": 12,
   "metadata": {
    "collapsed": false,
    "scrolled": true
   },
   "outputs": [
    {
     "name": "stdout",
     "output_type": "stream",
     "text": [
      "1\n"
     ]
    }
   ],
   "source": [
    "shutil.rmtree(json_folder)\n",
    "os.makedirs(json_folder)\n",
    "i=0\n",
    "for root, dirs, files in os.walk(rdf_folder):\n",
    "    series=[]\n",
    "    path = root.replace(rdf_folder,'').split(os.sep)\n",
    "    if len(path)==2:\n",
    "        i=i+1\n",
    "        if (i % 1)==0: print i,\n",
    "        jsonld_file=json_folder+root.replace('../../../data/rdf/','').replace('/','_')+'.json'\n",
    "        serie={}\n",
    "        serie['serie_handle']=path[0]+path[1]\n",
    "        if series_df[series_df['serie-handle']==serie['serie_handle']].size>0:\n",
    "            serie['provider_name']=series_df[series_df['serie-handle']==serie['serie_handle']].iloc[0]['provider-name']\n",
    "            serie['serie_name']=series_df[series_df['serie-handle']==serie['serie_handle']].iloc[0]['name']\n",
    "            serie['items']=[]\n",
    "            for file in files:        \n",
    "                if file[-4:]=='.rdf' or file[-6:]=='.redif':\n",
    "                    json_data=redif2jsonld(file,path)   \n",
    "                serie['items']=serie['items']+json_data\n",
    "            series.append(serie)\n",
    "            with open(jsonld_file, 'a') as outfile:\n",
    "                json.dump(unicode(series), outfile,ensure_ascii=False)"
   ]
  },
  {
   "cell_type": "code",
   "execution_count": 19,
   "metadata": {
    "collapsed": false
   },
   "outputs": [],
   "source": [
    "tmp=\"[{'serie_handle': 'agsaecwpo', 'provider_name': 'Agricultural and Applied Economics Association, Committee on Women in Agricultural Economics (CWAE)', 'serie_name': 'CWAE Posters', 'items': [{u'keyword': [], u'author': [{u'name': u'Newton,   Doris J.'}], u'url': u'http://purl.umn.edu/156382', u'abstract': u'', u'title': u'CWAE: Celebrating 20 Years of Excellence in Service - Part I-Poster', u'template': u'Template-Type: ReDIF-Paper 1.0'}, {u'keyword': [], u'author': [{u'name': u'Newton,   Doris J.'}, {u'name': u'Newton,   Doris J.'}], u'url': u'http://purl.umn.edu/156403', u'abstract': u'', u'title': u'CWAE: Celebrating 20 Years of Excellence in Service - Part II-highlights folder', u'template': u'Template-Type: ReDIF-Paper 1.0'}]}]\""
   ]
  },
  {
   "cell_type": "code",
   "execution_count": 40,
   "metadata": {
    "collapsed": false
   },
   "outputs": [
    {
     "name": "stdout",
     "output_type": "stream",
     "text": [
      "1\n"
     ]
    }
   ],
   "source": [
    "i=0\n",
    "with open(data+'mongo_json.json','a') as mongo_json:\n",
    "    for json_file in os.listdir(data+'json'):\n",
    "        i=i+1;print i,\n",
    "        if json_file[-5:]=='.json':\n",
    "            with open(data+'json/'+json_file) as json_str:\n",
    "                json_object=json.loads(json_str.read())\n",
    "                for item in json_object:\n",
    "                    mongo_json.write(json.dumps(item)+'\\n')"
   ]
  },
  {
   "cell_type": "code",
   "execution_count": 167,
   "metadata": {
    "collapsed": false
   },
   "outputs": [],
   "source": [
    "import pymongo\n",
    "conn=pymongo.MongoClient('52.73.2.35:27017')\n",
    "db=conn.repec"
   ]
  },
  {
   "cell_type": "code",
   "execution_count": 49,
   "metadata": {
    "collapsed": false
   },
   "outputs": [
    {
     "data": {
      "text/html": [
       "<div>\n",
       "<table border=\"1\" class=\"dataframe\">\n",
       "  <thead>\n",
       "    <tr style=\"text-align: right;\">\n",
       "      <th></th>\n",
       "      <th>handle</th>\n",
       "      <th>maintainer-email</th>\n",
       "      <th>name</th>\n",
       "      <th>provider-homepage</th>\n",
       "      <th>provider-institution</th>\n",
       "      <th>provider-name</th>\n",
       "      <th>serie-handle</th>\n",
       "    </tr>\n",
       "  </thead>\n",
       "  <tbody>\n",
       "    <tr>\n",
       "      <th>44</th>\n",
       "      <td>RePEc:ads:wpaper</td>\n",
       "      <td>econwp@ias.edu</td>\n",
       "      <td>Economics Working Papers</td>\n",
       "      <td>http://www.sss.ias.edu/</td>\n",
       "      <td>RePEc:edi:ssiasus</td>\n",
       "      <td>Institute for Advanced Study, School of Social...</td>\n",
       "      <td>adswpaper</td>\n",
       "    </tr>\n",
       "  </tbody>\n",
       "</table>\n",
       "</div>"
      ],
      "text/plain": [
       "              handle maintainer-email                      name  \\\n",
       "44  RePEc:ads:wpaper   econwp@ias.edu  Economics Working Papers   \n",
       "\n",
       "          provider-homepage provider-institution  \\\n",
       "44  http://www.sss.ias.edu/    RePEc:edi:ssiasus   \n",
       "\n",
       "                                        provider-name serie-handle  \n",
       "44  Institute for Advanced Study, School of Social...    adswpaper  "
      ]
     },
     "execution_count": 49,
     "metadata": {},
     "output_type": "execute_result"
    },
    {
     "name": "stdout",
     "output_type": "stream",
     "text": [
      "\n"
     ]
    }
   ],
   "source": [
    "series_df[series_df['serie-handle']=='adswpaper']"
   ]
  },
  {
   "cell_type": "code",
   "execution_count": null,
   "metadata": {
    "collapsed": false
   },
   "outputs": [],
   "source": [
    "series_df[series_df['serie-handle']=='aaywpaper']"
   ]
  },
  {
   "cell_type": "code",
   "execution_count": null,
   "metadata": {
    "collapsed": true
   },
   "outputs": [],
   "source": []
  }
 ],
 "metadata": {
  "anaconda-cloud": {},
  "kernelspec": {
   "display_name": "Python [Root]",
   "language": "python",
   "name": "Python [Root]"
  }
 },
 "nbformat": 4,
 "nbformat_minor": 0
}
