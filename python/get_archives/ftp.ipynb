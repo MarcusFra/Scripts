{
 "cells": [
  {
   "cell_type": "code",
   "execution_count": 1,
   "metadata": {
    "collapsed": true
   },
   "outputs": [],
   "source": [
    "import os\n",
    "import pandas as pd\n",
    "import requests"
   ]
  },
  {
   "cell_type": "code",
   "execution_count": 2,
   "metadata": {
    "collapsed": false
   },
   "outputs": [],
   "source": [
    "folder='all'\n",
    "columns=['handle','url','provider-homepage','template-type']\n",
    "all_items=[]\n",
    "for file in os.listdir(folder):\n",
    "    if file.endswith('.rdf'):\n",
    "        with open(folder+'/'+file,'r') as rdf_file:\n",
    "            rdf_string=rdf_file.read()\n",
    "            rdf_list= rdf_string.split('\\n')\n",
    "            rdf_item_dict={}\n",
    "            for rdf_item in rdf_list:\n",
    "                if ':' not in rdf_item: \n",
    "                    continue\n",
    "                key=rdf_item.split(':')[0]\n",
    "                if 1==2 or key.lower() in columns:\n",
    "                    value=rdf_item.replace(key+':','')\n",
    "                    rdf_item_dict[key.strip().lower()]=value.strip()\n",
    "            all_items.append(rdf_item_dict)"
   ]
  },
  {
   "cell_type": "code",
   "execution_count": null,
   "metadata": {
    "collapsed": false
   },
   "outputs": [],
   "source": [
    "all_items_status=[]\n",
    "for item in all_items[0:20]:\n",
    "    if 'template-type' in item:\n",
    "        if item['template-type']=='ReDIF-Archive 1.0' and item['url'][:4]=='http':\n",
    "            url=item['url']\n",
    "            try: \n",
    "                r = requests.get(url)\n",
    "            except:\n",
    "                r = 'Refused'\n",
    "            item['status']=r\n",
    "            all_items_status.append(item)"
   ]
  },
  {
   "cell_type": "code",
   "execution_count": null,
   "metadata": {
    "collapsed": false
   },
   "outputs": [],
   "source": [
    "df=pd.DataFrame(all_items_status)\n",
    "df.shape"
   ]
  },
  {
   "cell_type": "code",
   "execution_count": 25,
   "metadata": {
    "collapsed": false
   },
   "outputs": [
    {
     "data": {
      "text/html": [
       "<div>\n",
       "<table border=\"1\" class=\"dataframe\">\n",
       "  <thead>\n",
       "    <tr style=\"text-align: right;\">\n",
       "      <th></th>\n",
       "      <th>handle</th>\n",
       "      <th>status</th>\n",
       "      <th>template-type</th>\n",
       "      <th>url</th>\n",
       "    </tr>\n",
       "  </thead>\n",
       "  <tbody>\n",
       "    <tr>\n",
       "      <th>0</th>\n",
       "      <td>RePEc:aal</td>\n",
       "      <td>refused</td>\n",
       "      <td>ReDIF-Archive 1.0</td>\n",
       "      <td>http://www.druid.dk/RePEc/aal/</td>\n",
       "    </tr>\n",
       "    <tr>\n",
       "      <th>1</th>\n",
       "      <td>RePEc:aay</td>\n",
       "      <td>&lt;Response [200]&gt;</td>\n",
       "      <td>ReDIF-Archive 1.0</td>\n",
       "      <td>http://aaye.org/RePEc/aay/</td>\n",
       "    </tr>\n",
       "    <tr>\n",
       "      <th>2</th>\n",
       "      <td>RePEc:abn</td>\n",
       "      <td>&lt;Response [200]&gt;</td>\n",
       "      <td>ReDIF-Archive 1.0</td>\n",
       "      <td>http://cla.auburn.edu/econwp/RePEc/abn/</td>\n",
       "    </tr>\n",
       "    <tr>\n",
       "      <th>3</th>\n",
       "      <td>RePEc:acb</td>\n",
       "      <td>&lt;Response [200]&gt;</td>\n",
       "      <td>ReDIF-Archive 1.0</td>\n",
       "      <td>https://www.cbe.anu.edu.au/RePEc/acb/index.htm</td>\n",
       "    </tr>\n",
       "    <tr>\n",
       "      <th>4</th>\n",
       "      <td>RePEc:adl</td>\n",
       "      <td>refused</td>\n",
       "      <td>ReDIF-Archive 1.0</td>\n",
       "      <td>http://economics.adelaide.edu.au/research/pape...</td>\n",
       "    </tr>\n",
       "    <tr>\n",
       "      <th>5</th>\n",
       "      <td>RePEc:adr</td>\n",
       "      <td>&lt;Response [200]&gt;</td>\n",
       "      <td>ReDIF-Archive 1.0</td>\n",
       "      <td>http://annales.ensae.fr/RePEc/adr/</td>\n",
       "    </tr>\n",
       "    <tr>\n",
       "      <th>6</th>\n",
       "      <td>RePEc:ads</td>\n",
       "      <td>&lt;Response [404]&gt;</td>\n",
       "      <td>ReDIF-Archive 1.0</td>\n",
       "      <td>http://www.sss.ias.edu/files/RePEc/ads/</td>\n",
       "    </tr>\n",
       "  </tbody>\n",
       "</table>\n",
       "</div>"
      ],
      "text/plain": [
       "      handle            status      template-type  \\\n",
       "0  RePEc:aal           refused  ReDIF-Archive 1.0   \n",
       "1  RePEc:aay  <Response [200]>  ReDIF-Archive 1.0   \n",
       "2  RePEc:abn  <Response [200]>  ReDIF-Archive 1.0   \n",
       "3  RePEc:acb  <Response [200]>  ReDIF-Archive 1.0   \n",
       "4  RePEc:adl           refused  ReDIF-Archive 1.0   \n",
       "5  RePEc:adr  <Response [200]>  ReDIF-Archive 1.0   \n",
       "6  RePEc:ads  <Response [404]>  ReDIF-Archive 1.0   \n",
       "\n",
       "                                                 url  \n",
       "0                     http://www.druid.dk/RePEc/aal/  \n",
       "1                         http://aaye.org/RePEc/aay/  \n",
       "2            http://cla.auburn.edu/econwp/RePEc/abn/  \n",
       "3     https://www.cbe.anu.edu.au/RePEc/acb/index.htm  \n",
       "4  http://economics.adelaide.edu.au/research/pape...  \n",
       "5                 http://annales.ensae.fr/RePEc/adr/  \n",
       "6            http://www.sss.ias.edu/files/RePEc/ads/  "
      ]
     },
     "execution_count": 25,
     "metadata": {},
     "output_type": "execute_result"
    }
   ],
   "source": [
    "df"
   ]
  },
  {
   "cell_type": "code",
   "execution_count": null,
   "metadata": {
    "collapsed": true
   },
   "outputs": [],
   "source": []
  }
 ],
 "metadata": {
  "anaconda-cloud": {},
  "kernelspec": {
   "display_name": "Python [Root]",
   "language": "python",
   "name": "Python [Root]"
  },
  "language_info": {
   "codemirror_mode": {
    "name": "ipython",
    "version": 2
   },
   "file_extension": ".py",
   "mimetype": "text/x-python",
   "name": "python",
   "nbconvert_exporter": "python",
   "pygments_lexer": "ipython2",
   "version": "2.7.12"
  }
 },
 "nbformat": 4,
 "nbformat_minor": 0
}
