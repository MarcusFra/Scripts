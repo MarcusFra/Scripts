{
 "cells": [
  {
   "cell_type": "code",
   "execution_count": 1,
   "metadata": {
    "collapsed": true
   },
   "outputs": [],
   "source": [
    "import os\n",
    "import pandas as pd\n",
    "import requests\n",
    "from ftplib import FTP \n"
   ]
  },
  {
   "cell_type": "code",
   "execution_count": 237,
   "metadata": {
    "collapsed": false
   },
   "outputs": [],
   "source": [
    "folder='all'\n",
    "columns=['handle','url','template-type','maintainer-email','name']\n",
    "all_items=[]\n",
    "for file in os.listdir(folder):\n",
    "    if file.endswith('arch.rdf'):\n",
    "        with open(folder+'/'+file,'r') as rdf_file:\n",
    "            rdf_string=rdf_file.read()\n",
    "            rdf_list= rdf_string.replace('\\xef\\xbb\\xbf','').split('\\n')\n",
    "            rdf_item_dict={}\n",
    "            for rdf_item in rdf_list:\n",
    "                if ':' not in rdf_item: \n",
    "                    continue\n",
    "                key=rdf_item.split(':')[0]\n",
    "                if key.lower() in columns:\n",
    "                    value=rdf_item.replace(key+':','')\n",
    "                    rdf_item_dict[key.strip().lower()]=value.strip()\n",
    "            all_items.append(rdf_item_dict)"
   ]
  },
  {
   "cell_type": "code",
   "execution_count": 234,
   "metadata": {
    "collapsed": false
   },
   "outputs": [
    {
     "data": {
      "text/plain": [
       "(1903, 5)"
      ]
     },
     "execution_count": 234,
     "metadata": {},
     "output_type": "execute_result"
    }
   ],
   "source": [
    "df=pd.DataFrame(all_items)\n",
    "df.shape"
   ]
  },
  {
   "cell_type": "code",
   "execution_count": 236,
   "metadata": {
    "collapsed": false
   },
   "outputs": [],
   "source": [
    "all_items_status=[]\n",
    "for item in all_items:\n",
    "    if 'template-type' in item:\n",
    "        if item['template-type']=='ReDIF-Archive 1.0' and item['url'][:4]=='http':\n",
    "            url=item['url']\n",
    "            try: \n",
    "                r = requests.get(url)\n",
    "                if r.status_code==200: item['status']='OK'\n",
    "                if r.status_code==404: item['status']='Page Not Found'\n",
    "            except:\n",
    "                item['status'] = 'Connectoin Refused'\n",
    "            all_items_status.append(item)"
   ]
  },
  {
   "cell_type": "code",
   "execution_count": 238,
   "metadata": {
    "collapsed": false
   },
   "outputs": [
    {
     "data": {
      "text/plain": [
       "(1626, 6)"
      ]
     },
     "execution_count": 238,
     "metadata": {},
     "output_type": "execute_result"
    }
   ],
   "source": [
    "df_http=pd.DataFrame(all_items_status)\n",
    "df_http.shape"
   ]
  },
  {
   "cell_type": "code",
   "execution_count": 239,
   "metadata": {
    "collapsed": false
   },
   "outputs": [
    {
     "data": {
      "text/plain": [
       "0.14821648216482164"
      ]
     },
     "execution_count": 239,
     "metadata": {},
     "output_type": "execute_result"
    }
   ],
   "source": [
    "float(df_http[df_http.status!='OK'].shape[0])/df_http.shape[0]"
   ]
  },
  {
   "cell_type": "code",
   "execution_count": 240,
   "metadata": {
    "collapsed": false
   },
   "outputs": [],
   "source": [
    "all_items_status_ftp=[]\n",
    "for item in all_items:\n",
    "    if 'template-type' in item:\n",
    "        if item['template-type']=='ReDIF-Archive 1.0' and item['url'][:3]=='ftp':\n",
    "            url=item['url'].split('/')[2]\n",
    "            try: \n",
    "                ftp = FTP(url)\n",
    "                item['status']='OK'\n",
    "            except:\n",
    "                item['status'] = 'Connectoin Refused'\n",
    "            all_items_status_ftp.append(item)"
   ]
  },
  {
   "cell_type": "code",
   "execution_count": 241,
   "metadata": {
    "collapsed": false
   },
   "outputs": [
    {
     "data": {
      "text/plain": [
       "(256, 6)"
      ]
     },
     "execution_count": 241,
     "metadata": {},
     "output_type": "execute_result"
    }
   ],
   "source": [
    "df_ftp=pd.DataFrame(all_items_status_ftp)\n",
    "df_ftp.shape"
   ]
  },
  {
   "cell_type": "code",
   "execution_count": 242,
   "metadata": {
    "collapsed": false,
    "scrolled": true
   },
   "outputs": [
    {
     "data": {
      "text/plain": [
       "0.09765625"
      ]
     },
     "execution_count": 242,
     "metadata": {},
     "output_type": "execute_result"
    }
   ],
   "source": [
    "float(df_ftp[df_ftp.status!='OK'].shape[0])/df_ftp.shape[0]"
   ]
  },
  {
   "cell_type": "code",
   "execution_count": 243,
   "metadata": {
    "collapsed": false
   },
   "outputs": [
    {
     "data": {
      "text/plain": [
       "(1882, 6)"
      ]
     },
     "execution_count": 243,
     "metadata": {},
     "output_type": "execute_result"
    }
   ],
   "source": [
    "df_all=df_http.append(df_ftp)\n",
    "df_all.shape"
   ]
  },
  {
   "cell_type": "code",
   "execution_count": 244,
   "metadata": {
    "collapsed": false
   },
   "outputs": [
    {
     "data": {
      "text/plain": [
       "(1882, 6)"
      ]
     },
     "execution_count": 244,
     "metadata": {},
     "output_type": "execute_result"
    }
   ],
   "source": [
    "df_all['handle']=df_all['handle'].str.lower().str[6:9]\n",
    "df_all.shape"
   ]
  },
  {
   "cell_type": "code",
   "execution_count": 245,
   "metadata": {
    "collapsed": false
   },
   "outputs": [],
   "source": [
    "df_all.sort_values('handle')[['handle','name','url','status']].to_csv('archives.csv',index=False)"
   ]
  },
  {
   "cell_type": "code",
   "execution_count": 246,
   "metadata": {
    "collapsed": false
   },
   "outputs": [
    {
     "name": "stdout",
     "output_type": "stream",
     "text": [
      "{'url': 'https://www.afdb.org/RePEc/adb/', 'template-type': 'ReDIF-Archive 1.0', 'handle': 'RePEc:adb', 'name': 'African Development Bank', 'maintainer-email': 's.adjatan@afdb.org'}\n"
     ]
    }
   ],
   "source": [
    "for item in all_items:\n",
    "    if 'handle' in item and item['handle']=='RePEc:adb':\n",
    "        print item"
   ]
  },
  {
   "cell_type": "code",
   "execution_count": 247,
   "metadata": {
    "collapsed": false
   },
   "outputs": [
    {
     "data": {
      "text/plain": [
       "1903"
      ]
     },
     "execution_count": 247,
     "metadata": {},
     "output_type": "execute_result"
    }
   ],
   "source": [
    "len(all_items)"
   ]
  },
  {
   "cell_type": "code",
   "execution_count": 249,
   "metadata": {
    "collapsed": false
   },
   "outputs": [
    {
     "data": {
      "text/html": [
       "<div>\n",
       "<table border=\"1\" class=\"dataframe\">\n",
       "  <thead>\n",
       "    <tr style=\"text-align: right;\">\n",
       "      <th></th>\n",
       "      <th>handle</th>\n",
       "      <th>maintainer-email</th>\n",
       "      <th>name</th>\n",
       "      <th>status</th>\n",
       "      <th>template-type</th>\n",
       "      <th>url</th>\n",
       "    </tr>\n",
       "  </thead>\n",
       "  <tbody>\n",
       "  </tbody>\n",
       "</table>\n",
       "</div>"
      ],
      "text/plain": [
       "Empty DataFrame\n",
       "Columns: [handle, maintainer-email, name, status, template-type, url]\n",
       "Index: []"
      ]
     },
     "execution_count": 249,
     "metadata": {},
     "output_type": "execute_result"
    }
   ],
   "source": [
    "df_all[df_all['handle']=='RePEc:adb']"
   ]
  },
  {
   "cell_type": "code",
   "execution_count": null,
   "metadata": {
    "collapsed": true
   },
   "outputs": [],
   "source": []
  }
 ],
 "metadata": {
  "anaconda-cloud": {},
  "kernelspec": {
   "display_name": "Python [Root]",
   "language": "python",
   "name": "Python [Root]"
  },
  "language_info": {
   "codemirror_mode": {
    "name": "ipython",
    "version": 2
   },
   "file_extension": ".py",
   "mimetype": "text/x-python",
   "name": "python",
   "nbconvert_exporter": "python",
   "pygments_lexer": "ipython2",
   "version": "2.7.12"
  }
 },
 "nbformat": 4,
 "nbformat_minor": 0
}
