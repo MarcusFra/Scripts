{
 "cells": [
  {
   "cell_type": "code",
   "execution_count": 9,
   "metadata": {
    "collapsed": true
   },
   "outputs": [],
   "source": [
    "import os\n",
    "import pandas as pd\n",
    "import requests\n",
    "from ftplib import FTP \n",
    "import re"
   ]
  },
  {
   "cell_type": "code",
   "execution_count": 42,
   "metadata": {
    "collapsed": false
   },
   "outputs": [],
   "source": [
    "folder='all'\n",
    "columns=['handle','url','template-type','maintainer-email','name','provider-name',\n",
    "         'provider-homepage','provider-institution']\n",
    "all_series=[]\n",
    "for file in os.listdir(folder):\n",
    "    if file.endswith('seri.rdf'):\n",
    "        with open(folder+'/'+file,'r') as rdf_file:\n",
    "            rdf_string=rdf_file.read()\n",
    "            series=re.split('Template-Type|Template-type|template-type',rdf_string)\n",
    "            for serie in series:\n",
    "                serie_list= serie.replace('\\xef\\xbb\\xbf','').split('\\n')\n",
    "                serie_dict={}\n",
    "                for serie_item in serie_list:\n",
    "                    if ':' not in serie_item: \n",
    "                        continue\n",
    "                    key=serie_item.split(':')[0]\n",
    "                    if key.lower() in columns:\n",
    "                        value=serie_item.replace(key+':','')\n",
    "                        serie_dict[key.strip().lower()]=value.strip()\n",
    "                if serie_dict not in all_series:\n",
    "                    all_series.append(serie_dict)"
   ]
  },
  {
   "cell_type": "code",
   "execution_count": 48,
   "metadata": {
    "collapsed": false
   },
   "outputs": [
    {
     "data": {
      "text/plain": [
       "(8307, 6)"
      ]
     },
     "execution_count": 48,
     "metadata": {},
     "output_type": "execute_result"
    }
   ],
   "source": [
    "df=pd.DataFrame(all_series)\n",
    "df.shape"
   ]
  },
  {
   "cell_type": "code",
   "execution_count": 49,
   "metadata": {
    "collapsed": false
   },
   "outputs": [],
   "source": [
    "df.to_csv('~/data/series.csv',index=False)"
   ]
  }
 ],
 "metadata": {
  "anaconda-cloud": {},
  "kernelspec": {
   "display_name": "Python [Root]",
   "language": "python",
   "name": "Python [Root]"
  },
  "language_info": {
   "codemirror_mode": {
    "name": "ipython",
    "version": 2
   },
   "file_extension": ".py",
   "mimetype": "text/x-python",
   "name": "python",
   "nbconvert_exporter": "python",
   "pygments_lexer": "ipython2",
   "version": "2.7.12"
  }
 },
 "nbformat": 4,
 "nbformat_minor": 0
}
