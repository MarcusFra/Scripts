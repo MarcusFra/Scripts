{
 "cells": [
  {
   "cell_type": "code",
   "execution_count": 1,
   "metadata": {
    "collapsed": true
   },
   "outputs": [],
   "source": [
    "import os\n",
    "import pandas as pd\n",
    "import requests"
   ]
  },
  {
   "cell_type": "code",
   "execution_count": 2,
   "metadata": {
    "collapsed": false
   },
   "outputs": [],
   "source": [
    "folder='all'\n",
    "columns=['handle','url','provider-homepage','template-type']\n",
    "all_items=[]\n",
    "for file in os.listdir(folder):\n",
    "    if file.endswith('.rdf'):\n",
    "        with open(folder+'/'+file,'r') as rdf_file:\n",
    "            rdf_string=rdf_file.read()\n",
    "            rdf_list= rdf_string.split('\\n')\n",
    "            rdf_item_dict={}\n",
    "            for rdf_item in rdf_list:\n",
    "                if ':' not in rdf_item: \n",
    "                    continue\n",
    "                key=rdf_item.split(':')[0]\n",
    "                if 1==2 or key.lower() in columns:\n",
    "                    value=rdf_item.replace(key+':','')\n",
    "                    rdf_item_dict[key.strip().lower()]=value.strip()\n",
    "            all_items.append(rdf_item_dict)"
   ]
  },
  {
   "cell_type": "code",
   "execution_count": null,
   "metadata": {
    "collapsed": false
   },
   "outputs": [],
   "source": [
    "all_items_status=[]\n",
    "for item in all_items[0:20]:\n",
    "    if 'template-type' in item:\n",
    "        if item['template-type']=='ReDIF-Archive 1.0' and item['url'][:4]=='http':\n",
    "            url=item['url']\n",
    "            try: \n",
    "                r = requests.get(url)\n",
    "            except:\n",
    "                r = 'refused'\n",
    "            if r=='<Response [200]>': r= 'OK'\n",
    "            if r=='<Response [404]>': r= '404'\n",
    "            item['status']=r\n",
    "            all_items_status.append(item)"
   ]
  },
  {
   "cell_type": "code",
   "execution_count": null,
   "metadata": {
    "collapsed": false
   },
   "outputs": [],
   "source": [
    "df=pd.DataFrame(all_items_status)\n",
    "df.shape"
   ]
  },
  {
   "cell_type": "code",
   "execution_count": null,
   "metadata": {
    "collapsed": false
   },
   "outputs": [],
   "source": [
    "df"
   ]
  },
  {
   "cell_type": "code",
   "execution_count": null,
   "metadata": {
    "collapsed": true
   },
   "outputs": [],
   "source": []
  }
 ],
 "metadata": {
  "anaconda-cloud": {},
  "kernelspec": {
   "display_name": "Python [Root]",
   "language": "python",
   "name": "Python [Root]"
  },
  "language_info": {
   "codemirror_mode": {
    "name": "ipython",
    "version": 2
   },
   "file_extension": ".py",
   "mimetype": "text/x-python",
   "name": "python",
   "nbconvert_exporter": "python",
   "pygments_lexer": "ipython2",
   "version": "2.7.12"
  }
 },
 "nbformat": 4,
 "nbformat_minor": 0
}
