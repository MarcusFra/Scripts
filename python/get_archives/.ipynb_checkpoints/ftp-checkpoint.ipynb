{
 "cells": [
  {
   "cell_type": "code",
   "execution_count": 1,
   "metadata": {
    "collapsed": true
   },
   "outputs": [],
   "source": [
    "import os\n",
    "import pandas as pd\n",
    "import requests\n",
    "from ftplib import FTP \n"
   ]
  },
  {
   "cell_type": "code",
   "execution_count": 129,
   "metadata": {
    "collapsed": false
   },
   "outputs": [],
   "source": [
    "folder='all'\n",
    "columns=['handle','url','template-type','maintainer-email','name']\n",
    "all_items=[]\n",
    "for file in os.listdir(folder):\n",
    "    if file.endswith('.rdf'):\n",
    "        with open(folder+'/'+file,'r') as rdf_file:\n",
    "            rdf_string=rdf_file.read()\n",
    "            rdf_list= rdf_string.split('\\n')\n",
    "            rdf_item_dict={}\n",
    "            for rdf_item in rdf_list:\n",
    "                if ':' not in rdf_item: \n",
    "                    continue\n",
    "                key=rdf_item.split(':')[0]\n",
    "                if 1==2 or key.lower() in columns:\n",
    "                    value=rdf_item.replace(key+':','')\n",
    "                    rdf_item_dict[key.strip().lower()]=value.strip()\n",
    "            all_items.append(rdf_item_dict)"
   ]
  },
  {
   "cell_type": "code",
   "execution_count": 130,
   "metadata": {
    "collapsed": false
   },
   "outputs": [
    {
     "data": {
      "text/plain": [
       "(3818, 5)"
      ]
     },
     "execution_count": 130,
     "metadata": {},
     "output_type": "execute_result"
    }
   ],
   "source": [
    "df=pd.DataFrame(all_items)\n",
    "df.shape"
   ]
  },
  {
   "cell_type": "code",
   "execution_count": null,
   "metadata": {
    "collapsed": false
   },
   "outputs": [],
   "source": [
    "all_items_status=[]\n",
    "for item in all_items:\n",
    "    if 'template-type' in item:\n",
    "        if item['template-type']=='ReDIF-Archive 1.0' and item['url'][:4]=='http':\n",
    "            url=item['url']\n",
    "            try: \n",
    "                r = requests.get(url)\n",
    "                if r.status_code==200: item['status']='OK'\n",
    "                if r.status_code==404: item['status']='Page Not Found'\n",
    "            except:\n",
    "                item['status'] = 'Connectoin Refused'\n",
    "            all_items_status.append(item)"
   ]
  },
  {
   "cell_type": "code",
   "execution_count": null,
   "metadata": {
    "collapsed": false
   },
   "outputs": [],
   "source": [
    "df_http=pd.DataFrame(all_items_status)\n",
    "df_http.shape"
   ]
  },
  {
   "cell_type": "code",
   "execution_count": null,
   "metadata": {
    "collapsed": false
   },
   "outputs": [],
   "source": [
    "float(df_http[df_http.status!='OK'].shape[0])/df_http.shape[0]"
   ]
  },
  {
   "cell_type": "code",
   "execution_count": null,
   "metadata": {
    "collapsed": false
   },
   "outputs": [],
   "source": [
    "all_items_status_ftp=[]\n",
    "for item in all_items:\n",
    "    if 'template-type' in item:\n",
    "        if item['template-type']=='ReDIF-Archive 1.0' and item['url'][:3]=='ftp':\n",
    "            url=item['url'].split('/')[2]\n",
    "            try: \n",
    "                ftp = FTP(url)\n",
    "                item['status']='OK'\n",
    "            except:\n",
    "                item['status'] = 'Connectoin Refused'\n",
    "            all_items_status_ftp.append(item)"
   ]
  },
  {
   "cell_type": "code",
   "execution_count": null,
   "metadata": {
    "collapsed": false
   },
   "outputs": [],
   "source": [
    "df_ftp=pd.DataFrame(all_items_status_ftp)\n",
    "df_ftp.shape"
   ]
  },
  {
   "cell_type": "code",
   "execution_count": null,
   "metadata": {
    "collapsed": false,
    "scrolled": true
   },
   "outputs": [],
   "source": [
    "float(df_ftp[df_ftp.status!='OK'].shape[0])/df_ftp.shape[0]"
   ]
  }
 ],
 "metadata": {
  "anaconda-cloud": {},
  "kernelspec": {
   "display_name": "Python [Root]",
   "language": "python",
   "name": "Python [Root]"
  },
  "language_info": {
   "codemirror_mode": {
    "name": "ipython",
    "version": 2
   },
   "file_extension": ".py",
   "mimetype": "text/x-python",
   "name": "python",
   "nbconvert_exporter": "python",
   "pygments_lexer": "ipython2",
   "version": "2.7.12"
  }
 },
 "nbformat": 4,
 "nbformat_minor": 0
}
