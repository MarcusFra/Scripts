{
 "cells": [
  {
   "cell_type": "code",
   "execution_count": 31,
   "metadata": {
    "collapsed": true
   },
   "outputs": [],
   "source": [
    "import json\n",
    "import os\n",
    "from pprint import pprint"
   ]
  },
  {
   "cell_type": "code",
   "execution_count": 32,
   "metadata": {
    "collapsed": true
   },
   "outputs": [],
   "source": [
    "def redif2jsonld(redif_file):\n",
    "    ''' A function that gets a ReDIF input and converts it to a JSON-LD'''\n",
    "    articles=[]\n",
    "    article={}\n",
    "    creators=[]\n",
    "    creator={}\n",
    "    for i in content:\n",
    "        pair=i.split(':')\n",
    "        j=i.replace(pair[0]+':','').strip()\n",
    "        if pair[0].lower()=='template-type':\n",
    "            if len(article)>0:\n",
    "                article['creator']=creators\n",
    "                creators=[]\n",
    "                articles.append(article)\n",
    "            article={};\n",
    "            article['creator']=[]; article['keywords']=[]; \n",
    "            article['template']=i\n",
    "        elif pair[0].lower()=='author-name':\n",
    "            if len(creator)>0:\n",
    "                creators.append(creator)\n",
    "            creator={}\n",
    "            creator['name']=j\n",
    "        elif pair[0]=='Author-Email':\n",
    "            creator['email']=j\n",
    "        elif pair[0]=='Author-Workplace-Name':\n",
    "            creator['affiliation']=j\n",
    "        elif pair[0].lower()=='title':article['title']=j\n",
    "        elif pair[0].lower()=='year':article['date']=j\n",
    "        elif pair[0].lower()=='pages':article['pages']=j\n",
    "        elif pair[0].lower()=='volume':article['volume']=j\n",
    "        elif pair[0].lower()=='issue':article['issue']=j\n",
    "        elif pair[0].lower()=='file-url':article['url']=j\n",
    "        elif pair[0].lower()=='abstract':article['abstract']=j\n",
    "        elif pair[0].lower()=='keywords':article['keywords']=[keyword.strip() for keyword in j.split(',')]\n",
    "    jd=json.dumps(articles,ensure_ascii=False)\n",
    "    jd = unicode(jd, 'utf-8',errors='ignore')\n",
    "    jl=json.loads(jd,encoding='utf-8')\n",
    "    return (jl)"
   ]
  },
  {
   "cell_type": "code",
   "execution_count": null,
   "metadata": {
    "collapsed": false,
    "scrolled": true
   },
   "outputs": [],
   "source": [
    "#Run: put any number of ReDIF files in the current folder \n",
    "#Example: isre-0101-1704-BOM.rdf\n",
    "data='../../../data/'\n",
    "rdf_folder=data+'rdf/'\n",
    "json_folder=data+'json/'\n",
    "i=0\n",
    "for root, dirs, files in os.walk(rdf_folder):\n",
    "    path = root.replace(rdf_folder,'').split(os.sep)\n",
    "    if len(path)==2:\n",
    "        i=i+1\n",
    "        if (i % 1000)==0: print i,\n",
    "        jsonld_file=json_folder+root.replace('../../../data/rdf/','').replace('/','_')+'.json'\n",
    "        objects={}\n",
    "        objects['items']=[]\n",
    "        for file in files:        \n",
    "            if file[-4:]=='.rdf' or file[-6:]=='.redif':\n",
    "                with open(root+'/'+file) as f:\n",
    "                    content = f.readlines()\n",
    "                # you may also want to remove whitespace characters like `\\n` at the end of each line\n",
    "                content = [x.strip() for x in content] \n",
    "                json_data=redif2jsonld(file)        \n",
    "            objects['items']=objects['items']+json_data\n",
    "        with open(jsonld_file, 'a') as outfile:\n",
    "            json.dump(objects, outfile)"
   ]
  },
  {
   "cell_type": "code",
   "execution_count": 91,
   "metadata": {
    "collapsed": false
   },
   "outputs": [],
   "source": [
    "with open(data+'mongo_json.json','a') as mongo_json:\n",
    "    for json_file in os.listdir(data+'json'):\n",
    "        with open(data+'json/'+json_file) as json_str:\n",
    "            json_object=json.load(json_str)\n",
    "        for item in json_object['items']:\n",
    "            mongo_json.write(json.dumps(item)+'\\n')"
   ]
  },
  {
   "cell_type": "code",
   "execution_count": null,
   "metadata": {
    "collapsed": true
   },
   "outputs": [],
   "source": []
  },
  {
   "cell_type": "code",
   "execution_count": null,
   "metadata": {
    "collapsed": true
   },
   "outputs": [],
   "source": []
  }
 ],
 "metadata": {
  "anaconda-cloud": {},
  "kernelspec": {
   "display_name": "Python [Root]",
   "language": "python",
   "name": "Python [Root]"
  },
  "language_info": {
   "codemirror_mode": {
    "name": "ipython",
    "version": 2
   },
   "file_extension": ".py",
   "mimetype": "text/x-python",
   "name": "python",
   "nbconvert_exporter": "python",
   "pygments_lexer": "ipython2",
   "version": "2.7.12"
  }
 },
 "nbformat": 4,
 "nbformat_minor": 0
}
